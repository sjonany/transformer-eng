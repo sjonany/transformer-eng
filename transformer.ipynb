{
 "cells": [
  {
   "cell_type": "code",
   "execution_count": 5,
   "metadata": {},
   "outputs": [
    {
     "ename": "SyntaxError",
     "evalue": "unterminated string literal (detected at line 38) (1285603373.py, line 38)",
     "output_type": "error",
     "traceback": [
      "\u001b[0;36m  Cell \u001b[0;32mIn[5], line 38\u001b[0;36m\u001b[0m\n\u001b[0;31m    [Positioning] The transformer doesn't actually know about the position of the subwords. We get around this by\u001b[0m\n\u001b[0m                                       ^\u001b[0m\n\u001b[0;31mSyntaxError\u001b[0m\u001b[0;31m:\u001b[0m unterminated string literal (detected at line 38)\n"
     ]
    }
   ],
   "source": [
    "from typing import Annotated, Dict\n",
    "import numpy.typing as npt\n",
    "\n",
    "# Token embedding dimension. It's called D_MODEL in the original post.\n",
    "# This is also State's dimension.\n",
    "D_EMBED = 12288;\n",
    "# The number of input tokens the transformer can handle at once.\n",
    "# Also the length of the residual stream.\n",
    "N_TOKEN = 1024;\n",
    "# The number of unique subwords\n",
    "N_VOCAB = 50000;\n",
    "\n",
    "class Logits:\n",
    "    \"\"\"The logit for each subword\n",
    "    \"\"\"\n",
    "    data: Annotated[list[float], N_VOCAB]\n",
    "    def __init__(self, data):\n",
    "        self.data = data\n",
    "\n",
    "class TokenId:\n",
    "    \"\"\"Which subword\n",
    "    \"\"\"\n",
    "    data: int\n",
    "    def __init__(self, data):\n",
    "        assert data < N_VOCAB and data >= 0\n",
    "        self.data = data\n",
    "    \n",
    "    def __hash__(self):\n",
    "        return hash(self.data)\n",
    "    \n",
    "    def __eq__(self, rhs):\n",
    "        return isinstance(rhs, TokenId) and self.data == rhs.data\n",
    "    \n",
    "\n",
    "class State:\n",
    "    \"\"\"An item in the residual stream.\n",
    "    \"\"\"\n",
    "    data: Annotated[list[float], D_EMBED]\n",
    "\n",
    "class ResidualStream:\n",
    "    \"\"\"An abstract data structure that holds the current transformer's internal state.\n",
    "    It keeps getting transformed by various phases of Transformer.run().\n",
    "    You can think of this as an opaque POJO too, with a collection of key-value pairs,\n",
    "    but the k-v pairs are encoded as an unordered set of N_TOKEN vectors of size D_EMBED.\n",
    "    \n",
    "    Note the meaning of this opaque object changes after each processing step.\n",
    "    E.g. After the initial embedding step, this is a set of token embeddings.\n",
    "    After the first attention step, this is a set of context-aware embeddings per token.\n",
    "    After the first MLP, it's something mysterious :) Maybe a field in this opaque data structure can be\n",
    "    a measure of how sentiment-positive the entire token collection is.\n",
    "    \"\"\"\n",
    "    data: Annotated[list[State], N_TOKEN]\n",
    "    def __init__(self, data):\n",
    "        self.data = data\n",
    "\n",
    "class Embedder:\n",
    "    embedding_matrix: Dict[TokenId, Annotated[list[float], D_EMBED]]\n",
    "    def __init__(self, embedding_matrix):\n",
    "        self.embedding_matrix = embedding_matrix\n",
    "\n",
    "    def run(self, input_tokens: list[TokenId]) -> ResidualStream:\n",
    "        \"\"\"Look up each token in the embedding matrix. Each token ID is mapped to D_EMBED vector.\n",
    "        \"\"\"\n",
    "        states = [State(self.embedding_matrix[token_id] for token_id in input_tokens)]\n",
    "        return ResidualStream(states)\n",
    "\n",
    "class Unembedder:\n",
    "    # TODO: Implement\n",
    "\n",
    "class Transformer:\n",
    "\n",
    "    def run(input_tokens: list[TokenId]) -> Logits:\n",
    "        \"\"\"A transformer accepts an unordered set of subwords / tokens and returns the logits of the next subword.\n",
    "        \n",
    "        [Positioning] The transformer doesn't actually know about the position of the subwords. We get around this by\n",
    "        adding positional embedding into each token embedding. **But we don't do it in this exercise.\n",
    "        \"\"\"\n",
    "        # TODO: Implement this\n",
    "        # TODO: Embed\n",
    "        return Logits([3.2]*N_VOCAB)\n",
    "\n",
    "    def embed(input_tokens: list[TokenId]) -> ResidualStream:\n",
    "        \"\"\"Embeds the input tokens\n",
    "        \"\"\""
   ]
  },
  {
   "cell_type": "code",
   "execution_count": 2,
   "metadata": {},
   "outputs": [],
   "source": [
    "import numpy as np"
   ]
  }
 ],
 "metadata": {
  "kernelspec": {
   "display_name": "base",
   "language": "python",
   "name": "python3"
  },
  "language_info": {
   "codemirror_mode": {
    "name": "ipython",
    "version": 3
   },
   "file_extension": ".py",
   "mimetype": "text/x-python",
   "name": "python",
   "nbconvert_exporter": "python",
   "pygments_lexer": "ipython3",
   "version": "3.11.4"
  }
 },
 "nbformat": 4,
 "nbformat_minor": 2
}
